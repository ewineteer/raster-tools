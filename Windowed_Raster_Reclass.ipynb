{
 "cells": [
  {
   "cell_type": "code",
   "execution_count": 1,
   "metadata": {},
   "outputs": [],
   "source": [
    "import rasterio as rio\n",
    "from rasterio.windows import Window\n",
    "import numpy as np"
   ]
  },
  {
   "cell_type": "code",
   "execution_count": 16,
   "metadata": {},
   "outputs": [],
   "source": [
    "origpath = 'C:/Users/Eric W/Downloads/Soil_NLCD_Geo_Imperv_Use/Soil_NLCD_Geo_Imperv_Use.tif'\n",
    "newpath = 'C:/Users/Eric W/Downloads/Soil_NLCD_Geo_Imperv_Use/Soil_NLCD_Geo_Imperv_Use_RECLASSED_V3.tif'"
   ]
  },
  {
   "cell_type": "code",
   "execution_count": 17,
   "metadata": {},
   "outputs": [],
   "source": [
    "rmp = np.genfromtxt('C:/Projects/KingCounty/3_Data/HRU_Unique_Vals_Remap.csv',delimiter=',')\n",
    "remaptargs = np.unique(rmp[:,1])"
   ]
  },
  {
   "cell_type": "code",
   "execution_count": 15,
   "metadata": {},
   "outputs": [
    {
     "data": {
      "text/plain": [
       "array([[ 211111., -211111.],\n",
       "       [ 211112., -211111.],\n",
       "       [ 211121., -211111.],\n",
       "       ...,\n",
       "       [ 758112., -758112.],\n",
       "       [ 758132., -758132.],\n",
       "       [ 758151., -758151.]])"
      ]
     },
     "execution_count": 15,
     "metadata": {},
     "output_type": "execute_result"
    }
   ],
   "source": [
    "rmp"
   ]
  },
  {
   "cell_type": "code",
   "execution_count": 18,
   "metadata": {},
   "outputs": [],
   "source": [
    "def remap(array):\n",
    "    for val in remaptargs:\n",
    "        toremap = rmp[np.where(rmp[:,1]==val),0]\n",
    "        array[np.isin(array, toremap)] = val \n",
    "    return(array)"
   ]
  },
  {
   "cell_type": "code",
   "execution_count": 14,
   "metadata": {},
   "outputs": [
    {
     "name": "stdout",
     "output_type": "stream",
     "text": [
      "{'driver': 'GTiff', 'dtype': 'int32', 'nodata': -2147483647.0, 'width': 110620, 'height': 88928, 'count': 1, 'crs': CRS.from_wkt('PROJCS[\"NAD_1983_HARN_Washington_North_ftUS\",GEOGCS[\"NAD83(HARN)\",DATUM[\"NAD83_High_Accuracy_Reference_Network\",SPHEROID[\"GRS 1980\",6378137,298.257222101004,AUTHORITY[\"EPSG\",\"7019\"]],AUTHORITY[\"EPSG\",\"6152\"]],PRIMEM[\"Greenwich\",0],UNIT[\"degree\",0.0174532925199433,AUTHORITY[\"EPSG\",\"9122\"]],AUTHORITY[\"EPSG\",\"4152\"]],PROJECTION[\"Lambert_Conformal_Conic_2SP\"],PARAMETER[\"latitude_of_origin\",47],PARAMETER[\"central_meridian\",-120.833333333333],PARAMETER[\"standard_parallel_1\",47.5],PARAMETER[\"standard_parallel_2\",48.7333333333333],PARAMETER[\"false_easting\",1640416.667],PARAMETER[\"false_northing\",0],UNIT[\"US survey foot\",0.304800609601219,AUTHORITY[\"EPSG\",\"9003\"]],AXIS[\"Easting\",EAST],AXIS[\"Northing\",NORTH]]'), 'transform': Affine(3.2808400000000004, 0.0, 1220303.9560411696,\n",
      "       0.0, -3.2808400000000004, 339697.68670384143), 'blockxsize': 128, 'blockysize': 128, 'tiled': True, 'compress': 'lzw', 'interleave': 'band'}\n"
     ]
    }
   ],
   "source": [
    "areawindow = Window(30000, 30000, 1024, 1024)\n",
    "with rio.open(origpath) as src:\n",
    "    image = src.read(1, window=areawindow)\n",
    "    image = remap(image)\n",
    "    profile = src.profile\n",
    "    with rio.open(newpath, 'w',**profile) as dst:\n",
    "        dst.write(image, window=areawindow, indexes=1)\n",
    "        print(profile)"
   ]
  },
  {
   "cell_type": "code",
   "execution_count": 19,
   "metadata": {},
   "outputs": [],
   "source": [
    "src = rio.open(origpath)\n",
    "image = src.read(1, window=areawindow)\n",
    "image = remap(image)\n",
    "profile = src.profile\n",
    "dst = rio.open(newpath, 'w',**profile)\n",
    "dst.write(image, window=areawindow, indexes=1)\n"
   ]
  },
  {
   "cell_type": "code",
   "execution_count": 20,
   "metadata": {},
   "outputs": [
    {
     "data": {
      "text/plain": [
       "array([[-314312, -314312, -314312, ..., 1172232, 1172232, 1172232],\n",
       "       [-314312, -314312, -314312, ..., 1172232, 1172232, 1172232],\n",
       "       [-314312, -314312, -314312, ..., 1172232, 1172232, 1172232],\n",
       "       ...,\n",
       "       [-314312, -314312, -314312, ..., 8872451, 8872451, 8872451],\n",
       "       [-314312, -314312, -314312, ..., 8872451, 8872451, 8872451],\n",
       "       [-314312, -314312, -314312, ..., 8872451, 8872451, 8872451]])"
      ]
     },
     "execution_count": 20,
     "metadata": {},
     "output_type": "execute_result"
    }
   ],
   "source": [
    "image"
   ]
  }
 ],
 "metadata": {
  "kernelspec": {
   "display_name": "Python 3",
   "language": "python",
   "name": "python3"
  },
  "language_info": {
   "codemirror_mode": {
    "name": "ipython",
    "version": 3
   },
   "file_extension": ".py",
   "mimetype": "text/x-python",
   "name": "python",
   "nbconvert_exporter": "python",
   "pygments_lexer": "ipython3",
   "version": "3.6.10"
  }
 },
 "nbformat": 4,
 "nbformat_minor": 4
}
