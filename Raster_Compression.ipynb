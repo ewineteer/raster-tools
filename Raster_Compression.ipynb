{
 "cells": [
  {
   "cell_type": "code",
   "execution_count": 1,
   "metadata": {},
   "outputs": [],
   "source": [
    "import os\n",
    "import numpy as np\n",
    "import rasterio as rio\n",
    "from rasterio.warp import calculate_default_transform, reproject, Resampling"
   ]
  },
  {
   "cell_type": "code",
   "execution_count": 2,
   "metadata": {},
   "outputs": [],
   "source": [
    "origpath = 'C:/Users/ERic W/Box/Projects/LA County/WMMS2/3_Data/GIS/Shapefiles/HRU/HRU Components/Elevation/NED_10M_Mosaic_Int_Ft_Int.tif'\n",
    "dst_crs = 'EPSG:4326'\n",
    "outpath = 'C:/Projects/KingCounty/3_Data/GridData/LAC_DEM_WGS84_CompTest.tif'"
   ]
  },
  {
   "cell_type": "code",
   "execution_count": 7,
   "metadata": {},
   "outputs": [],
   "source": [
    "##This version just copies the original file with compression\n",
    "with rio.open(origpath) as src:\n",
    "    kwprof = src.profile.copy()\n",
    "    \n",
    "    kwprof.update(\n",
    "        compress='ZSTD',\n",
    "        threads=8,\n",
    "        tiled='YES',\n",
    "        predictor=2\n",
    "        \n",
    "    )\n",
    "    out_image = src.read()\n",
    "    with rio.open(outpath, 'w', **kwprof) as dst:\n",
    "        dst.write(out_image)"
   ]
  },
  {
   "cell_type": "code",
   "execution_count": 5,
   "metadata": {},
   "outputs": [
    {
     "data": {
      "text/plain": [
       "{'driver': 'GTiff',\n",
       " 'dtype': 'int16',\n",
       " 'nodata': -32768.0,\n",
       " 'width': 81101,\n",
       " 'height': 71142,\n",
       " 'count': 1,\n",
       " 'crs': CRS.from_epsg(2229),\n",
       " 'transform': Affine(6.561679999999999, 0.0, 6183384.251986671,\n",
       "        0.0, -6.56168, 2148764.501446658)}"
      ]
     },
     "execution_count": 5,
     "metadata": {},
     "output_type": "execute_result"
    }
   ],
   "source": [
    "kwargs"
   ]
  },
  {
   "cell_type": "code",
   "execution_count": 6,
   "metadata": {},
   "outputs": [
    {
     "data": {
      "text/plain": [
       "{'driver': 'GTiff', 'dtype': 'int16', 'nodata': -32768.0, 'width': 81101, 'height': 71142, 'count': 1, 'crs': CRS.from_epsg(2229), 'transform': Affine(6.561679999999999, 0.0, 6183384.251986671,\n",
       "       0.0, -6.56168, 2148764.501446658), 'blockxsize': 128, 'blockysize': 128, 'tiled': 'YES', 'compress': 'ZSTD', 'interleave': 'band', 'threads': 8, 'predictor': 2}"
      ]
     },
     "execution_count": 6,
     "metadata": {},
     "output_type": "execute_result"
    }
   ],
   "source": [
    "kwprof"
   ]
  }
 ],
 "metadata": {
  "kernelspec": {
   "display_name": "Python 3",
   "language": "python",
   "name": "python3"
  },
  "language_info": {
   "codemirror_mode": {
    "name": "ipython",
    "version": 3
   },
   "file_extension": ".py",
   "mimetype": "text/x-python",
   "name": "python",
   "nbconvert_exporter": "python",
   "pygments_lexer": "ipython3",
   "version": "3.7.7"
  }
 },
 "nbformat": 4,
 "nbformat_minor": 4
}
