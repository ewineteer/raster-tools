{
 "cells": [
  {
   "cell_type": "code",
   "execution_count": 1,
   "metadata": {},
   "outputs": [],
   "source": [
    "import rasterio\n",
    "import rasterio.mask\n",
    "import rasterio.crs\n",
    "import geopandas as gpd\n",
    "import shapely"
   ]
  },
  {
   "cell_type": "code",
   "execution_count": 2,
   "metadata": {},
   "outputs": [],
   "source": [
    "shapefile = gpd.read_file(\"C:/Users/Eric W/Downloads/DEM_Extent_RusticCanyon (1)/DEM_Extent_RusticCanyon.shp\")\n",
    "shapefile = shapefile.to_crs('EPSG:2229')"
   ]
  },
  {
   "cell_type": "code",
   "execution_count": 3,
   "metadata": {},
   "outputs": [],
   "source": [
    "shp_geom = []\n",
    "shp_coord = shapely.geometry.mapping(shapefile)[\"features\"][0][\"geometry\"]\n",
    "shp_geom.append(shp_coord)"
   ]
  },
  {
   "cell_type": "code",
   "execution_count": 4,
   "metadata": {},
   "outputs": [],
   "source": [
    "src = rasterio.open(\"C:/Users/Eric W/Box/Projects/LA County/WRAMPS/3. Data/GIS/HRU_Remap/WMMS2_HRUraster_AllHRUs.tif\", 'r+')\n",
    "src.crs = rasterio.crs.CRS.from_string('EPSG:2229')"
   ]
  },
  {
   "cell_type": "code",
   "execution_count": 5,
   "metadata": {},
   "outputs": [],
   "source": [
    "out_image, out_transform = rasterio.mask.mask(src, shp_geom, crop=True)\n",
    "out_meta = src.meta"
   ]
  },
  {
   "cell_type": "code",
   "execution_count": 6,
   "metadata": {},
   "outputs": [],
   "source": [
    "out_meta.update({\"driver\": \"GTiff\",\n",
    "                 \"height\": out_image.shape[1],\n",
    "                 \"width\": out_image.shape[2],\n",
    "                 \"transform\": out_transform})\n",
    "\n",
    "with rasterio.open(\"C:/Users/Eric W/Box/Projects/City of LA/SCW Feasibility Studies 2020/3_Data/GIS/Shapefiles/HRU Clips/HRU_RusticCanyon_4_21_20_V2.tif\", \"w\", **out_meta,compress='LZW',threads = 4) as dest:\n",
    "    dest.write(out_image)"
   ]
  }
 ],
 "metadata": {
  "kernelspec": {
   "display_name": "Python 3",
   "language": "python",
   "name": "python3"
  },
  "language_info": {
   "codemirror_mode": {
    "name": "ipython",
    "version": 3
   },
   "file_extension": ".py",
   "mimetype": "text/x-python",
   "name": "python",
   "nbconvert_exporter": "python",
   "pygments_lexer": "ipython3",
   "version": "3.6.10"
  }
 },
 "nbformat": 4,
 "nbformat_minor": 4
}
