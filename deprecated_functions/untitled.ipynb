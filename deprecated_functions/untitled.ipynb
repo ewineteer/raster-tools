{
 "cells": [
  {
   "cell_type": "code",
   "execution_count": 1,
   "metadata": {},
   "outputs": [],
   "source": [
    "import rasterio as rio\n",
    "import numpy as np\n",
    "from numba import njit\n",
    "import pandas as pd\n",
    "from tqdm import tqdm"
   ]
  },
  {
   "cell_type": "code",
   "execution_count": 2,
   "metadata": {},
   "outputs": [],
   "source": [
    "combfile = '/media/eric/data/box/Projects/Auckland/5. Model/LSPC/ZonalRasterStatistics/HRU_Sliders/Raster_Layers_Combine/Tamaki/Combine.tif'\n",
    "elefile = '/media/eric/data/box/Projects/Auckland/5. Model/LSPC/ZonalRasterStatistics/HRU_Sliders/Raster_Layers/Tamaki/elevation_tamaki.tif'\n",
    "slopefile = '/media/eric/data/box/Projects/Auckland/5. Model/LSPC/ZonalRasterStatistics/HRU_Sliders/Raster_Layers/Tamaki/slope_tamaki.tif'\n",
    "vegfile = '/media/eric/data/box/Projects/Auckland/5. Model/LSPC/ZonalRasterStatistics/HRU_Sliders/Raster_Layers/Tamaki/vegetation_tamaki.tif'"
   ]
  },
  {
   "cell_type": "code",
   "execution_count": 3,
   "metadata": {},
   "outputs": [],
   "source": [
    "with rio.open(combfile) as src:\n",
    "    combvals = src.read().squeeze()\n",
    "    combnodata = src.nodatavals[0]\n",
    "with rio.open(elefile) as src:\n",
    "    elevals = src.read().squeeze()\n",
    "    elenodata = src.nodatavals[0]\n",
    "with rio.open(slopefile) as src:\n",
    "    slopevals = src.read().squeeze()\n",
    "    slopenodata = src.nodatavals[0]\n",
    "with rio.open(vegfile) as src:\n",
    "    vegvals = src.read().squeeze()\n",
    "    vegnodata = src.nodatavals[0]"
   ]
  },
  {
   "cell_type": "code",
   "execution_count": null,
   "metadata": {},
   "outputs": [],
   "source": []
  },
  {
   "cell_type": "code",
   "execution_count": 4,
   "metadata": {},
   "outputs": [],
   "source": [
    "@njit\n",
    "def avg_noncategoricals(combvals, elevals, slopevals, vegvals):\n",
    "    \n",
    "    unique_vals = np.unique(combvals)\n",
    "    unique_vals = unique_vals[unique_vals!=combnodata]\n",
    "\n",
    "    ele_avg = []\n",
    "    slope_avg = []\n",
    "    veg_avg = []\n",
    "    \n",
    "    rows, cols = combvals.shape\n",
    "    \n",
    "    for unique_val in unique_vals:\n",
    "        ele_overlap = [np.float32(x) for x in range(0)]\n",
    "        slope_overlap = [np.float32(x) for x in range(0)]\n",
    "        veg_overlap = [np.float32(x) for x in range(0)]\n",
    "        \n",
    "        for row in range(0,rows):\n",
    "            for col in range(0, cols):\n",
    "                if combvals[row,col] == unique_val:\n",
    "                    ele_overlap.append(elevals[row,col])\n",
    "                    slope_overlap.append(slopevals[row,col])\n",
    "                    veg_overlap.append(vegvals[row,col])\n",
    "        \n",
    "        ele_overlap = np.array(ele_overlap)\n",
    "        slope_overlap = np.array(slope_overlap)\n",
    "        veg_overlap = np.array(veg_overlap)\n",
    "        \n",
    "        ele_overlap = ele_overlap[ele_overlap != elenodata]\n",
    "        slope_overlap = slope_overlap[slope_overlap != slopenodata]\n",
    "        veg_overlap = veg_overlap[veg_overlap != vegnodata]\n",
    "        \n",
    "        ele_avg.append(np.mean(ele_overlap))\n",
    "        slope_avg.append(np.mean(slope_overlap))\n",
    "        veg_avg.append(np.mean(veg_overlap))\n",
    "        \n",
    "    return(ele_avg, slope_avg, veg_avg)\n"
   ]
  },
  {
   "cell_type": "code",
   "execution_count": 9,
   "metadata": {},
   "outputs": [],
   "source": [
    "def avg_noncategoricals(combvals, elevals, slopevals, vegvals):\n",
    "    \n",
    "    unique_vals = np.unique(combvals)\n",
    "    unique_vals = unique_vals[unique_vals!=combnodata]\n",
    "\n",
    "    ele_avg = []\n",
    "    slope_avg = []\n",
    "    veg_avg = []\n",
    "    \n",
    "    \n",
    "    for unique_val in tqdm(unique_vals):\n",
    "        x,y = np.where(combvals==unique_val)\n",
    "        \n",
    "        ele_overlap = []\n",
    "        slope_overlap = []\n",
    "        veg_overlap = []\n",
    "        \n",
    "        ele_overlap = elevals[x,y]\n",
    "        ele_overlap = ele_overlap[ele_overlap != elenodata]\n",
    "        ele_avg.append(np.mean(ele_overlap))\n",
    "        ele_overlap = None\n",
    "\n",
    "        slope_overlap = slopevals[x,y]\n",
    "        slope_overlap = slope_overlap[slope_overlap != slopenodata]\n",
    "        slope_avg.append(np.mean(slope_overlap))\n",
    "        slope_overlap = None\n",
    "\n",
    "        veg_overlap = vegvals[x,y]\n",
    "        veg_overlap = veg_overlap[veg_overlap != vegnodata]\n",
    "        veg_avg.append(np.mean(veg_overlap))\n",
    "        veg_overlap = None\n",
    "\n",
    "        \n",
    "    return(unique_vals, ele_avg, slope_avg, veg_avg)"
   ]
  },
  {
   "cell_type": "code",
   "execution_count": 10,
   "metadata": {},
   "outputs": [
    {
     "name": "stderr",
     "output_type": "stream",
     "text": [
      "  6%|▌         | 501/9101 [02:28<39:58,  3.59it/s]  /home/eric/miniconda3/envs/distgeo/lib/python3.7/site-packages/numpy/core/fromnumeric.py:3335: RuntimeWarning: Mean of empty slice.\n",
      "  out=out, **kwargs)\n",
      "/home/eric/miniconda3/envs/distgeo/lib/python3.7/site-packages/numpy/core/_methods.py:161: RuntimeWarning: invalid value encountered in true_divide\n",
      "  ret = ret.dtype.type(ret / rcount)\n",
      "100%|██████████| 9101/9101 [41:40<00:00,  3.64it/s]\n"
     ]
    }
   ],
   "source": [
    "unique_vals, ele_avg, slope_avg, veg_avg = avg_noncategoricals(combvals, elevals, slopevals, vegvals)"
   ]
  },
  {
   "cell_type": "code",
   "execution_count": 17,
   "metadata": {},
   "outputs": [],
   "source": [
    "unique_vals = np.unique(combvals)\n",
    "unique_vals = unique_vals[unique_vals!=combnodata]"
   ]
  },
  {
   "cell_type": "code",
   "execution_count": 21,
   "metadata": {},
   "outputs": [],
   "source": [
    "StatsDF = pd.DataFrame({'Comb_ID':unique_vals, 'Elevation':ele_avg,'Slope':slope_avg,'Vegetation':veg_avg})"
   ]
  },
  {
   "cell_type": "code",
   "execution_count": 23,
   "metadata": {},
   "outputs": [],
   "source": [
    "StatsDF.to_csv('/home/eric/projects/auckland/hru_creation/Tamaki_HRU_Table.csv',index=False)"
   ]
  },
  {
   "cell_type": "code",
   "execution_count": 24,
   "metadata": {},
   "outputs": [
    {
     "ename": "ModuleNotFoundError",
     "evalue": "No module named 'simpledbf'",
     "output_type": "error",
     "traceback": [
      "\u001b[0;31m---------------------------------------------------------------------------\u001b[0m",
      "\u001b[0;31mModuleNotFoundError\u001b[0m                       Traceback (most recent call last)",
      "\u001b[0;32m<ipython-input-24-3f0103d7e976>\u001b[0m in \u001b[0;36m<module>\u001b[0;34m\u001b[0m\n\u001b[0;32m----> 1\u001b[0;31m \u001b[0;32mimport\u001b[0m \u001b[0msimpledbf\u001b[0m\u001b[0;34m\u001b[0m\u001b[0;34m\u001b[0m\u001b[0m\n\u001b[0m",
      "\u001b[0;31mModuleNotFoundError\u001b[0m: No module named 'simpledbf'"
     ]
    }
   ],
   "source": [
    "import simpledbf"
   ]
  },
  {
   "cell_type": "code",
   "execution_count": 26,
   "metadata": {},
   "outputs": [
    {
     "ename": "ModuleNotFoundError",
     "evalue": "No module named 'dbfread'",
     "output_type": "error",
     "traceback": [
      "\u001b[0;31m---------------------------------------------------------------------------\u001b[0m",
      "\u001b[0;31mModuleNotFoundError\u001b[0m                       Traceback (most recent call last)",
      "\u001b[0;32m<ipython-input-26-62d744f31d2a>\u001b[0m in \u001b[0;36m<module>\u001b[0;34m\u001b[0m\n\u001b[0;32m----> 1\u001b[0;31m \u001b[0;32mimport\u001b[0m \u001b[0mdbfread\u001b[0m\u001b[0;34m\u001b[0m\u001b[0;34m\u001b[0m\u001b[0m\n\u001b[0m",
      "\u001b[0;31mModuleNotFoundError\u001b[0m: No module named 'dbfread'"
     ]
    }
   ],
   "source": [
    "import dbfread"
   ]
  },
  {
   "cell_type": "code",
   "execution_count": null,
   "metadata": {},
   "outputs": [],
   "source": []
  }
 ],
 "metadata": {
  "kernelspec": {
   "display_name": "distgeo",
   "language": "python",
   "name": "distgeo"
  },
  "language_info": {
   "codemirror_mode": {
    "name": "ipython",
    "version": 3
   },
   "file_extension": ".py",
   "mimetype": "text/x-python",
   "name": "python",
   "nbconvert_exporter": "python",
   "pygments_lexer": "ipython3",
   "version": "3.7.6"
  }
 },
 "nbformat": 4,
 "nbformat_minor": 4
}
