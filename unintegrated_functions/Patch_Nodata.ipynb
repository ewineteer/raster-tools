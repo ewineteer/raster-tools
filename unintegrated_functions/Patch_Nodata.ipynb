{
 "cells": [
  {
   "cell_type": "code",
   "execution_count": 2,
   "metadata": {},
   "outputs": [],
   "source": [
    "import rasterio as rio\n",
    "from rasterio.windows import Window\n",
    "from rasterio.fill import fillnodata\n",
    "from rasterio.shutil import copyfiles\n",
    "import numpy as np\n",
    "import glob\n",
    "from tqdm import tqdm \n",
    "import re\n",
    "import os"
   ]
  },
  {
   "cell_type": "code",
   "execution_count": 3,
   "metadata": {},
   "outputs": [],
   "source": [
    "elev_files = glob.glob('/media/eric/data/box/Projects/Auckland/5. Model/LSPC/ZonalRasterStatistics/HRU_Sliders/Raster_Layers/*/*levation_*.tif')\n",
    "slope_files = glob.glob('/media/eric/data/box/Projects/Auckland/5. Model/LSPC/ZonalRasterStatistics/HRU_Sliders/Raster_Layers/*/*lope_*.tif')\n",
    "veg_files = glob.glob('/media/eric/data/box/Projects/Auckland/5. Model/LSPC/ZonalRasterStatistics/HRU_Sliders/Raster_Layers/*/*egetation_*.tif')\n",
    "\n",
    "all_files = elev_files + slope_files + veg_files"
   ]
  },
  {
   "cell_type": "code",
   "execution_count": 5,
   "metadata": {},
   "outputs": [],
   "source": [
    "# this code is directly lifted from the block_corner_generator and hru_block_generator functions, in the \n",
    "# distributed raster reclass tool\n",
    "def read_window_generator(hru_numrows,hru_numcols,blocksize):\n",
    "    colrange = range(0,hru_numcols,blocksize)\n",
    "    rowrange = range(0,hru_numrows,blocksize)\n",
    "    for col in colrange:\n",
    "        for row in rowrange:\n",
    "            topleft = [col, row]\n",
    "            \n",
    "            if col == max(colrange):\n",
    "                br_col = hru_numcols\n",
    "                block_width = hru_numcols - max(colrange)\n",
    "            else:\n",
    "                br_col = col + blocksize\n",
    "                block_width = blocksize\n",
    "            if row == max(rowrange):\n",
    "                br_row = hru_numrows\n",
    "                block_height = hru_numrows - max(rowrange)\n",
    "            else:\n",
    "                br_row = row + blocksize\n",
    "                block_height = blocksize\n",
    "                \n",
    "            bottomright = [br_col, br_row]\n",
    "            \n",
    "            col_offset = col\n",
    "            row_offset = row\n",
    "            \n",
    "            read_window =  Window(col_offset, row_offset, block_width, block_height)\n",
    "            \n",
    "            yield(read_window)"
   ]
  },
  {
   "cell_type": "code",
   "execution_count": 6,
   "metadata": {},
   "outputs": [],
   "source": [
    "def patch_nodata(filepath):\n",
    "    \n",
    "    basename = os.path.basename(filepath)\n",
    "\n",
    "    writefolder = '/media/eric/data/data/auckland/hru_creation/nodata_interpolation'\n",
    "    writepath = os.path.join(writefolder,basename)\n",
    "\n",
    "    copyfiles(filepath,writepath)\n",
    "\n",
    "    with rio.open(writepath) as src:\n",
    "        hru_numrows, hru_numcols = src.shape\n",
    "\n",
    "    read_windows = read_window_generator(hru_numrows, hru_numcols, 5000)\n",
    "\n",
    "    for read_window in read_windows:\n",
    "\n",
    "        with rio.open(writepath) as src:\n",
    "            rast_block = src.read(1, window=read_window)\n",
    "            out_meta = src.meta.copy()\n",
    "\n",
    "        mask = rast_block != -1\n",
    "        rast_block = fillnodata(rast_block,mask,max_search_distance=10)\n",
    "\n",
    "        with rio.open(writepath, \"r+\", **out_meta) as dst:\n",
    "            dst.write(rast_block,window=read_window,indexes=1)"
   ]
  },
  {
   "cell_type": "code",
   "execution_count": 14,
   "metadata": {},
   "outputs": [],
   "source": [
    "filepath = elev_files[5]\n",
    "patch_nodata(filepath)"
   ]
  },
  {
   "cell_type": "code",
   "execution_count": 11,
   "metadata": {},
   "outputs": [
    {
     "name": "stderr",
     "output_type": "stream",
     "text": [
      "100%|██████████| 4/4 [02:23<00:00, 35.77s/it]\n"
     ]
    }
   ],
   "source": [
    "for filepath in tqdm(all_files[25:]):\n",
    "    patch_nodata(filepath)"
   ]
  },
  {
   "cell_type": "code",
   "execution_count": null,
   "metadata": {},
   "outputs": [],
   "source": []
  },
  {
   "cell_type": "code",
   "execution_count": null,
   "metadata": {},
   "outputs": [],
   "source": []
  },
  {
   "cell_type": "code",
   "execution_count": null,
   "metadata": {},
   "outputs": [],
   "source": []
  },
  {
   "cell_type": "code",
   "execution_count": 6,
   "metadata": {},
   "outputs": [
    {
     "data": {
      "text/plain": [
       "'/media/eric/data/box/Projects/Auckland/5. Model/LSPC/ZonalRasterStatistics/HRU_Sliders/Raster_Layers/Wairoa/WithNoData/elevation_Wairoa.tif.tif'"
      ]
     },
     "execution_count": 6,
     "metadata": {},
     "output_type": "execute_result"
    }
   ],
   "source": [
    "filepath"
   ]
  },
  {
   "cell_type": "code",
   "execution_count": 11,
   "metadata": {},
   "outputs": [],
   "source": [
    "with rio.open(filepath) as src:\n",
    "    hru_numrows, hru_numcols = src.shape"
   ]
  },
  {
   "cell_type": "code",
   "execution_count": 4,
   "metadata": {},
   "outputs": [],
   "source": [
    "filepath = all_files[0]"
   ]
  },
  {
   "cell_type": "code",
   "execution_count": 11,
   "metadata": {},
   "outputs": [
    {
     "name": "stderr",
     "output_type": "stream",
     "text": [
      "12it [00:14,  1.17s/it]\n"
     ]
    }
   ],
   "source": [
    "basename = os.path.basename(filepath)\n",
    "\n",
    "writefolder = '/media/eric/data/data/auckland/hru_creation/nodata_interpolation'\n",
    "writepath = os.path.join(writefolder,basename)\n",
    "\n",
    "copyfiles(filepath,writepath)\n",
    "\n",
    "with rio.open(writepath) as src:\n",
    "    hru_numrows, hru_numcols = src.shape\n",
    "\n",
    "read_windows = read_window_generator(hru_numrows, hru_numcols, 5000)\n",
    "\n",
    "for read_window in read_windows:\n",
    "\n",
    "    with rio.open(writepath) as src:\n",
    "        rast_block = src.read(1, window=read_window)\n",
    "        out_meta = src.meta.copy()\n",
    "\n",
    "    mask = rast_block != -1\n",
    "    rast_block = fillnodata(rast_block,mask,max_search_distance=10)\n",
    "\n",
    "    with rio.open(writepath, \"r+\", **out_meta) as dst:\n",
    "        dst.write(rast_block,window=read_window,indexes=1)"
   ]
  },
  {
   "cell_type": "code",
   "execution_count": 1,
   "metadata": {},
   "outputs": [],
   "source": [
    "import geopandas as gpd"
   ]
  },
  {
   "cell_type": "code",
   "execution_count": 2,
   "metadata": {},
   "outputs": [
    {
     "data": {
      "text/html": [
       "<div>\n",
       "<style scoped>\n",
       "    .dataframe tbody tr th:only-of-type {\n",
       "        vertical-align: middle;\n",
       "    }\n",
       "\n",
       "    .dataframe tbody tr th {\n",
       "        vertical-align: top;\n",
       "    }\n",
       "\n",
       "    .dataframe thead th {\n",
       "        text-align: right;\n",
       "    }\n",
       "</style>\n",
       "<table border=\"1\" class=\"dataframe\">\n",
       "  <thead>\n",
       "    <tr style=\"text-align: right;\">\n",
       "      <th></th>\n",
       "      <th>Value</th>\n",
       "      <th>Count</th>\n",
       "      <th>catchments</th>\n",
       "      <th>RLU</th>\n",
       "      <th>soil</th>\n",
       "      <th>zoning</th>\n",
       "      <th>landuseVeg</th>\n",
       "      <th>geometry</th>\n",
       "    </tr>\n",
       "  </thead>\n",
       "  <tbody>\n",
       "    <tr>\n",
       "      <th>0</th>\n",
       "      <td>1</td>\n",
       "      <td>7512.0</td>\n",
       "      <td>3679</td>\n",
       "      <td>999</td>\n",
       "      <td>8</td>\n",
       "      <td>5</td>\n",
       "      <td>842</td>\n",
       "      <td>None</td>\n",
       "    </tr>\n",
       "    <tr>\n",
       "      <th>1</th>\n",
       "      <td>2</td>\n",
       "      <td>40741.0</td>\n",
       "      <td>3679</td>\n",
       "      <td>999</td>\n",
       "      <td>8</td>\n",
       "      <td>3</td>\n",
       "      <td>842</td>\n",
       "      <td>None</td>\n",
       "    </tr>\n",
       "    <tr>\n",
       "      <th>2</th>\n",
       "      <td>3</td>\n",
       "      <td>16531.0</td>\n",
       "      <td>3679</td>\n",
       "      <td>999</td>\n",
       "      <td>8</td>\n",
       "      <td>3</td>\n",
       "      <td>742</td>\n",
       "      <td>None</td>\n",
       "    </tr>\n",
       "    <tr>\n",
       "      <th>3</th>\n",
       "      <td>4</td>\n",
       "      <td>4014.0</td>\n",
       "      <td>3679</td>\n",
       "      <td>999</td>\n",
       "      <td>8</td>\n",
       "      <td>5</td>\n",
       "      <td>742</td>\n",
       "      <td>None</td>\n",
       "    </tr>\n",
       "    <tr>\n",
       "      <th>4</th>\n",
       "      <td>5</td>\n",
       "      <td>22513.0</td>\n",
       "      <td>3679</td>\n",
       "      <td>999</td>\n",
       "      <td>8</td>\n",
       "      <td>3</td>\n",
       "      <td>21</td>\n",
       "      <td>None</td>\n",
       "    </tr>\n",
       "    <tr>\n",
       "      <th>...</th>\n",
       "      <td>...</td>\n",
       "      <td>...</td>\n",
       "      <td>...</td>\n",
       "      <td>...</td>\n",
       "      <td>...</td>\n",
       "      <td>...</td>\n",
       "      <td>...</td>\n",
       "      <td>...</td>\n",
       "    </tr>\n",
       "    <tr>\n",
       "      <th>9096</th>\n",
       "      <td>9097</td>\n",
       "      <td>41.0</td>\n",
       "      <td>3724</td>\n",
       "      <td>170524</td>\n",
       "      <td>4</td>\n",
       "      <td>7</td>\n",
       "      <td>843</td>\n",
       "      <td>None</td>\n",
       "    </tr>\n",
       "    <tr>\n",
       "      <th>9097</th>\n",
       "      <td>9098</td>\n",
       "      <td>62.0</td>\n",
       "      <td>3724</td>\n",
       "      <td>170524</td>\n",
       "      <td>4</td>\n",
       "      <td>7</td>\n",
       "      <td>743</td>\n",
       "      <td>None</td>\n",
       "    </tr>\n",
       "    <tr>\n",
       "      <th>9098</th>\n",
       "      <td>9099</td>\n",
       "      <td>31.0</td>\n",
       "      <td>3709</td>\n",
       "      <td>170518</td>\n",
       "      <td>4</td>\n",
       "      <td>7</td>\n",
       "      <td>843</td>\n",
       "      <td>None</td>\n",
       "    </tr>\n",
       "    <tr>\n",
       "      <th>9099</th>\n",
       "      <td>9100</td>\n",
       "      <td>1.0</td>\n",
       "      <td>3724</td>\n",
       "      <td>170525</td>\n",
       "      <td>4</td>\n",
       "      <td>7</td>\n",
       "      <td>844</td>\n",
       "      <td>None</td>\n",
       "    </tr>\n",
       "    <tr>\n",
       "      <th>9100</th>\n",
       "      <td>9101</td>\n",
       "      <td>17.0</td>\n",
       "      <td>3709</td>\n",
       "      <td>170518</td>\n",
       "      <td>4</td>\n",
       "      <td>7</td>\n",
       "      <td>743</td>\n",
       "      <td>None</td>\n",
       "    </tr>\n",
       "  </tbody>\n",
       "</table>\n",
       "<p>9101 rows × 8 columns</p>\n",
       "</div>"
      ],
      "text/plain": [
       "      Value    Count  catchments     RLU  soil  zoning  landuseVeg geometry\n",
       "0         1   7512.0        3679     999     8       5         842     None\n",
       "1         2  40741.0        3679     999     8       3         842     None\n",
       "2         3  16531.0        3679     999     8       3         742     None\n",
       "3         4   4014.0        3679     999     8       5         742     None\n",
       "4         5  22513.0        3679     999     8       3          21     None\n",
       "...     ...      ...         ...     ...   ...     ...         ...      ...\n",
       "9096   9097     41.0        3724  170524     4       7         843     None\n",
       "9097   9098     62.0        3724  170524     4       7         743     None\n",
       "9098   9099     31.0        3709  170518     4       7         843     None\n",
       "9099   9100      1.0        3724  170525     4       7         844     None\n",
       "9100   9101     17.0        3709  170518     4       7         743     None\n",
       "\n",
       "[9101 rows x 8 columns]"
      ]
     },
     "execution_count": 2,
     "metadata": {},
     "output_type": "execute_result"
    }
   ],
   "source": [
    "gpd.read_file('/media/eric/data/box/Projects/Auckland/5. Model/LSPC/ZonalRasterStatistics/HRU_Sliders/Raster_Layers_Combine/Tamaki/Combine.tif.vat.dbf')"
   ]
  },
  {
   "cell_type": "code",
   "execution_count": null,
   "metadata": {},
   "outputs": [],
   "source": []
  }
 ],
 "metadata": {
  "kernelspec": {
   "display_name": "distgeo",
   "language": "python",
   "name": "distgeo"
  },
  "language_info": {
   "codemirror_mode": {
    "name": "ipython",
    "version": 3
   },
   "file_extension": ".py",
   "mimetype": "text/x-python",
   "name": "python",
   "nbconvert_exporter": "python",
   "pygments_lexer": "ipython3",
   "version": "3.7.6"
  }
 },
 "nbformat": 4,
 "nbformat_minor": 4
}
